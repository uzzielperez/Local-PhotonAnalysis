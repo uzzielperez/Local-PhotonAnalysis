{
 "cells": [
  {
   "cell_type": "code",
   "execution_count": 2,
   "metadata": {},
   "outputs": [
    {
     "data": {
      "application/javascript": [
       "\n",
       "require(['notebook'],\n",
       "  function() {\n",
       "    IPython.CodeCell.config_defaults.highlight_modes['magic_text/x-c++src'] = {'reg':[/^%%cpp/]};\n",
       "    console.log(\"JupyROOT - %%cpp magic configured\");\n",
       "  }\n",
       ");\n"
      ]
     },
     "metadata": {},
     "output_type": "display_data"
    },
    {
     "name": "stdout",
     "output_type": "stream",
     "text": [
      "Welcome to JupyROOT 6.08/06\n"
     ]
    },
    {
     "name": "stderr",
     "output_type": "stream",
     "text": [
      "/usr/local/lib/python2.7/site-packages/root_numpy/__init__.py:46: RuntimeWarning: numpy 1.12.1 is currently installed but you installed root_numpy against numpy 1.12.0. Please consider reinstalling root_numpy for this numpy version.\n",
      "  RuntimeWarning)\n"
     ]
    }
   ],
   "source": [
    "import ROOT\n",
    "from root_numpy import root2array, tree2array\n",
    "from root_numpy.testdata import get_filepath\n",
    "import pandas as pd \n",
    "import csv "
   ]
  },
  {
   "cell_type": "code",
   "execution_count": 3,
   "metadata": {
    "collapsed": true
   },
   "outputs": [],
   "source": [
    "inputr = \"~/ExoDiphotonAnalyzer.root\"\n",
    "newfile = ROOT.TFile(inputr)\n",
    "gree = newfile.Get(\"/diphoton/fTree\")\n",
    "%jsroot on"
   ]
  },
  {
   "cell_type": "code",
   "execution_count": 4,
   "metadata": {},
   "outputs": [
    {
     "name": "stdout",
     "output_type": "stream",
     "text": [
      "TFile**\t\t/Users/up/ExoDiphotonAnalyzer.root\t\n",
      " TFile*\t\t/Users/up/ExoDiphotonAnalyzer.root\t\n",
      "  TDirectoryFile*\t\tdiphoton\tdiphoton\n",
      "   OBJ: TTree\tfTree\tDiPhotonTree : 0 at: 0x7f9b65593710\n",
      "   KEY: TTree\tfTree;1\tDiPhotonTree\n",
      "  KEY: TDirectoryFile\tdiphoton;1\tdiphoton\n"
     ]
    }
   ],
   "source": [
    "import numpy as np\n",
    "import matplotlib.pyplot as plt\n",
    "newfile.ls()\n",
    "import random"
   ]
  },
  {
   "cell_type": "markdown",
   "metadata": {},
   "source": [
    "# ROOT to CSV to dataframe"
   ]
  },
  {
   "cell_type": "code",
   "execution_count": 5,
   "metadata": {},
   "outputs": [
    {
     "data": {
      "text/html": [
       "<div>\n",
       "<style>\n",
       "    .dataframe thead tr:only-child th {\n",
       "        text-align: right;\n",
       "    }\n",
       "\n",
       "    .dataframe thead th {\n",
       "        text-align: left;\n",
       "    }\n",
       "\n",
       "    .dataframe tbody tr th {\n",
       "        vertical-align: top;\n",
       "    }\n",
       "</style>\n",
       "<table border=\"1\" class=\"dataframe\">\n",
       "  <thead>\n",
       "    <tr style=\"text-align: right;\">\n",
       "      <th></th>\n",
       "      <th>Event_ptHat</th>\n",
       "      <th>Event_alphaqcd</th>\n",
       "      <th>Event_alphaqed</th>\n",
       "      <th>Event_qscale</th>\n",
       "      <th>Event_weight0</th>\n",
       "      <th>Event_weight</th>\n",
       "      <th>Event_run</th>\n",
       "      <th>Event_LS</th>\n",
       "      <th>Event_evnum</th>\n",
       "      <th>Event_processid</th>\n",
       "      <th>...</th>\n",
       "      <th>GenDiphotonUnstable_cosThetaStar</th>\n",
       "      <th>GenDiphotonUnstable_cosThetaStarOld</th>\n",
       "      <th>GenDiphotonStable_Minv</th>\n",
       "      <th>GenDiphotonStable_qt</th>\n",
       "      <th>GenDiphotonStable_deltaPhi</th>\n",
       "      <th>GenDiphotonStable_deltaEta</th>\n",
       "      <th>GenDiphotonStable_deltaR</th>\n",
       "      <th>GenDiphotonStable_deltaROld</th>\n",
       "      <th>GenDiphotonStable_cosThetaStar</th>\n",
       "      <th>GenDiphotonStable_cosThetaStarOld</th>\n",
       "    </tr>\n",
       "  </thead>\n",
       "  <tbody>\n",
       "    <tr>\n",
       "      <th>0</th>\n",
       "      <td>0.0</td>\n",
       "      <td>0.091921</td>\n",
       "      <td>0.008074</td>\n",
       "      <td>1500.153687</td>\n",
       "      <td>1.0</td>\n",
       "      <td>1.0</td>\n",
       "      <td>1</td>\n",
       "      <td>9</td>\n",
       "      <td>1345</td>\n",
       "      <td>5001</td>\n",
       "      <td>...</td>\n",
       "      <td>-0.968518</td>\n",
       "      <td>0.946881</td>\n",
       "      <td>1500.153720</td>\n",
       "      <td>72.759681</td>\n",
       "      <td>3.078993</td>\n",
       "      <td>-4.290682</td>\n",
       "      <td>5.281112</td>\n",
       "      <td>5.281112</td>\n",
       "      <td>-0.968518</td>\n",
       "      <td>0.946881</td>\n",
       "    </tr>\n",
       "    <tr>\n",
       "      <th>1</th>\n",
       "      <td>0.0</td>\n",
       "      <td>0.091915</td>\n",
       "      <td>0.008074</td>\n",
       "      <td>1501.112671</td>\n",
       "      <td>1.0</td>\n",
       "      <td>1.0</td>\n",
       "      <td>1</td>\n",
       "      <td>9</td>\n",
       "      <td>1346</td>\n",
       "      <td>5001</td>\n",
       "      <td>...</td>\n",
       "      <td>0.544505</td>\n",
       "      <td>0.462591</td>\n",
       "      <td>1501.112651</td>\n",
       "      <td>200.798623</td>\n",
       "      <td>2.892044</td>\n",
       "      <td>1.302434</td>\n",
       "      <td>3.171790</td>\n",
       "      <td>3.171790</td>\n",
       "      <td>0.544505</td>\n",
       "      <td>0.462591</td>\n",
       "    </tr>\n",
       "    <tr>\n",
       "      <th>2</th>\n",
       "      <td>0.0</td>\n",
       "      <td>0.091922</td>\n",
       "      <td>0.008074</td>\n",
       "      <td>1500.031494</td>\n",
       "      <td>1.0</td>\n",
       "      <td>1.0</td>\n",
       "      <td>1</td>\n",
       "      <td>9</td>\n",
       "      <td>1347</td>\n",
       "      <td>5001</td>\n",
       "      <td>...</td>\n",
       "      <td>-0.776134</td>\n",
       "      <td>0.752600</td>\n",
       "      <td>1500.031507</td>\n",
       "      <td>81.003337</td>\n",
       "      <td>3.070133</td>\n",
       "      <td>-2.156230</td>\n",
       "      <td>3.751672</td>\n",
       "      <td>3.751672</td>\n",
       "      <td>-0.776134</td>\n",
       "      <td>0.752600</td>\n",
       "    </tr>\n",
       "    <tr>\n",
       "      <th>3</th>\n",
       "      <td>0.0</td>\n",
       "      <td>0.091924</td>\n",
       "      <td>0.008074</td>\n",
       "      <td>1499.646606</td>\n",
       "      <td>1.0</td>\n",
       "      <td>1.0</td>\n",
       "      <td>1</td>\n",
       "      <td>9</td>\n",
       "      <td>1348</td>\n",
       "      <td>5002</td>\n",
       "      <td>...</td>\n",
       "      <td>-0.703112</td>\n",
       "      <td>0.657329</td>\n",
       "      <td>1499.646572</td>\n",
       "      <td>28.629856</td>\n",
       "      <td>-3.132299</td>\n",
       "      <td>-1.755129</td>\n",
       "      <td>3.590511</td>\n",
       "      <td>3.590511</td>\n",
       "      <td>-0.703112</td>\n",
       "      <td>0.657329</td>\n",
       "    </tr>\n",
       "    <tr>\n",
       "      <th>4</th>\n",
       "      <td>0.0</td>\n",
       "      <td>0.091920</td>\n",
       "      <td>0.008074</td>\n",
       "      <td>1500.249512</td>\n",
       "      <td>1.0</td>\n",
       "      <td>1.0</td>\n",
       "      <td>1</td>\n",
       "      <td>9</td>\n",
       "      <td>1349</td>\n",
       "      <td>5001</td>\n",
       "      <td>...</td>\n",
       "      <td>-0.142218</td>\n",
       "      <td>0.004965</td>\n",
       "      <td>1500.249524</td>\n",
       "      <td>81.522381</td>\n",
       "      <td>-3.080136</td>\n",
       "      <td>-0.300952</td>\n",
       "      <td>3.094804</td>\n",
       "      <td>3.094804</td>\n",
       "      <td>-0.142218</td>\n",
       "      <td>0.004965</td>\n",
       "    </tr>\n",
       "  </tbody>\n",
       "</table>\n",
       "<p>5 rows × 176 columns</p>\n",
       "</div>"
      ],
      "text/plain": [
       "   Event_ptHat  Event_alphaqcd  Event_alphaqed  Event_qscale  Event_weight0  \\\n",
       "0          0.0        0.091921        0.008074   1500.153687            1.0   \n",
       "1          0.0        0.091915        0.008074   1501.112671            1.0   \n",
       "2          0.0        0.091922        0.008074   1500.031494            1.0   \n",
       "3          0.0        0.091924        0.008074   1499.646606            1.0   \n",
       "4          0.0        0.091920        0.008074   1500.249512            1.0   \n",
       "\n",
       "   Event_weight  Event_run  Event_LS  Event_evnum  Event_processid  \\\n",
       "0           1.0          1         9         1345             5001   \n",
       "1           1.0          1         9         1346             5001   \n",
       "2           1.0          1         9         1347             5001   \n",
       "3           1.0          1         9         1348             5002   \n",
       "4           1.0          1         9         1349             5001   \n",
       "\n",
       "                 ...                  GenDiphotonUnstable_cosThetaStar  \\\n",
       "0                ...                                         -0.968518   \n",
       "1                ...                                          0.544505   \n",
       "2                ...                                         -0.776134   \n",
       "3                ...                                         -0.703112   \n",
       "4                ...                                         -0.142218   \n",
       "\n",
       "   GenDiphotonUnstable_cosThetaStarOld  GenDiphotonStable_Minv  \\\n",
       "0                             0.946881             1500.153720   \n",
       "1                             0.462591             1501.112651   \n",
       "2                             0.752600             1500.031507   \n",
       "3                             0.657329             1499.646572   \n",
       "4                             0.004965             1500.249524   \n",
       "\n",
       "   GenDiphotonStable_qt  GenDiphotonStable_deltaPhi  \\\n",
       "0             72.759681                    3.078993   \n",
       "1            200.798623                    2.892044   \n",
       "2             81.003337                    3.070133   \n",
       "3             28.629856                   -3.132299   \n",
       "4             81.522381                   -3.080136   \n",
       "\n",
       "   GenDiphotonStable_deltaEta  GenDiphotonStable_deltaR  \\\n",
       "0                   -4.290682                  5.281112   \n",
       "1                    1.302434                  3.171790   \n",
       "2                   -2.156230                  3.751672   \n",
       "3                   -1.755129                  3.590511   \n",
       "4                   -0.300952                  3.094804   \n",
       "\n",
       "   GenDiphotonStable_deltaROld  GenDiphotonStable_cosThetaStar  \\\n",
       "0                     5.281112                       -0.968518   \n",
       "1                     3.171790                        0.544505   \n",
       "2                     3.751672                       -0.776134   \n",
       "3                     3.590511                       -0.703112   \n",
       "4                     3.094804                       -0.142218   \n",
       "\n",
       "   GenDiphotonStable_cosThetaStarOld  \n",
       "0                           0.946881  \n",
       "1                           0.462591  \n",
       "2                           0.752600  \n",
       "3                           0.657329  \n",
       "4                           0.004965  \n",
       "\n",
       "[5 rows x 176 columns]"
      ]
     },
     "execution_count": 5,
     "metadata": {},
     "output_type": "execute_result"
    }
   ],
   "source": [
    "a=tree2array(gree)\n",
    "al=a.tolist()\n",
    "df = pd.DataFrame(a)\n",
    "df.head()"
   ]
  },
  {
   "cell_type": "markdown",
   "metadata": {},
   "source": [
    "We can see that it works! Next we do some plots and some cuts. \n",
    "We can make new dataframes with some columns dropped"
   ]
  },
  {
   "cell_type": "code",
   "execution_count": 6,
   "metadata": {},
   "outputs": [
    {
     "name": "stdout",
     "output_type": "stream",
     "text": [
      "<class 'pandas.core.frame.DataFrame'>\n",
      "RangeIndex: 10000 entries, 0 to 9999\n",
      "Columns: 176 entries, Event_ptHat to GenDiphotonStable_cosThetaStarOld\n",
      "dtypes: bool(46), float32(7), float64(90), int32(33)\n",
      "memory usage: 8.8 MB\n"
     ]
    }
   ],
   "source": [
    "df.info()"
   ]
  },
  {
   "cell_type": "markdown",
   "metadata": {
    "collapsed": true
   },
   "source": [
    "## Plotting"
   ]
  },
  {
   "cell_type": "code",
   "execution_count": 7,
   "metadata": {
    "collapsed": true
   },
   "outputs": [],
   "source": [
    "import matplotlib.pyplot as plt\n",
    "%matplotlib inline"
   ]
  },
  {
   "cell_type": "code",
   "execution_count": 8,
   "metadata": {},
   "outputs": [
    {
     "data": {
      "image/png": "[encoded data removed]",
      "text/plain": [
       "<matplotlib.figure.Figure at 0x12b3a1150>"
      ]
     },
     "metadata": {},
     "output_type": "display_data"
    }
   ],
   "source": [
    "plt.hist(df.GenDiphotonStable_cosThetaStar, alpha=.3)\n",
    "#sns.distplot(df.photon1_eta);\n",
    "plt.show()"
   ]
  },
  {
   "cell_type": "code",
   "execution_count": 8,
   "metadata": {},
   "outputs": [
    {
     "data": {
      "text/plain": [
       "(array([  601.,     0.,     0.,     0.,     0.,     0.,     0.,     0.,\n",
       "            0.,  9399.]),\n",
       " array([ -9.99999900e+04,  -8.99998910e+04,  -7.99997920e+04,\n",
       "         -6.99996930e+04,  -5.99995940e+04,  -4.99994950e+04,\n",
       "         -3.99993960e+04,  -2.99992970e+04,  -1.99991980e+04,\n",
       "         -9.99909900e+03,   9.99996341e-01]),\n",
       " <a list of 10 Patch objects>)"
      ]
     },
     "execution_count": 8,
     "metadata": {},
     "output_type": "execute_result"
    },
    {
     "data": {
      "image/png": "[encoded data removed]",
      "text/plain": [
       "<matplotlib.figure.Figure at 0x122cd8f50>"
      ]
     },
     "metadata": {},
     "output_type": "display_data"
    }
   ],
   "source": [
    "plt.hist(df.GenDiphotonStable_cosThetaStarOld, alpha=.3)"
   ]
  },
  {
   "cell_type": "code",
   "execution_count": 9,
   "metadata": {},
   "outputs": [
    {
     "data": {
      "image/png": "[encoded data removed]",
      "text/plain": [
       "<matplotlib.figure.Figure at 0x12b566250>"
      ]
     },
     "metadata": {},
     "output_type": "display_data"
    }
   ],
   "source": [
    "plt.hist(df.Photon1_pt, alpha=.3, bins=50)\n",
    "plt.show()"
   ]
  },
  {
   "cell_type": "code",
   "execution_count": 10,
   "metadata": {},
   "outputs": [
    {
     "data": {
      "text/plain": [
       "(10000, 176)"
      ]
     },
     "execution_count": 10,
     "metadata": {},
     "output_type": "execute_result"
    }
   ],
   "source": [
    "df.shape    "
   ]
  },
  {
   "cell_type": "code",
   "execution_count": 11,
   "metadata": {
    "collapsed": true
   },
   "outputs": [],
   "source": [
    "#df[df.Photon1_pt>0]"
   ]
  },
  {
   "cell_type": "code",
   "execution_count": 12,
   "metadata": {
    "collapsed": true
   },
   "outputs": [],
   "source": [
    "%%capture\n",
    "df[df.Photon1_pt>0][df.Photon2_pt>0].GenDiphotonStable_cosThetaStar"
   ]
  },
  {
   "cell_type": "code",
   "execution_count": 13,
   "metadata": {
    "collapsed": true
   },
   "outputs": [],
   "source": [
    "%%capture\n",
    "df[df.Photon1_pt>0].Diphoton_cosThetaStar"
   ]
  },
  {
   "cell_type": "code",
   "execution_count": 14,
   "metadata": {},
   "outputs": [
    {
     "data": {
      "text/plain": [
       "(array([ 184.,  285.,  289.,  263.,  251.,  240.,  228.,  219.,  173.,\n",
       "         189.,  203.,  170.,  176.,  145.,  171.,  131.,  107.,  132.,\n",
       "         124.,  100.,   88.,  117.,  102.,   98.,  113.,  100.,   97.,\n",
       "         103.,   97.,  114.,  119.,  113.,  141.,  125.,  133.,  150.,\n",
       "         150.,  161.,  189.,  189.,  185.,  191.,  191.,  224.,  258.,\n",
       "         256.,  252.,  267.,  268.,  200.]),\n",
       " array([ -9.99233410e-01,  -9.59249844e-01,  -9.19266278e-01,\n",
       "         -8.79282711e-01,  -8.39299145e-01,  -7.99315579e-01,\n",
       "         -7.59332012e-01,  -7.19348446e-01,  -6.79364880e-01,\n",
       "         -6.39381313e-01,  -5.99397747e-01,  -5.59414180e-01,\n",
       "         -5.19430614e-01,  -4.79447048e-01,  -4.39463481e-01,\n",
       "         -3.99479915e-01,  -3.59496349e-01,  -3.19512782e-01,\n",
       "         -2.79529216e-01,  -2.39545650e-01,  -1.99562083e-01,\n",
       "         -1.59578517e-01,  -1.19594950e-01,  -7.96113840e-02,\n",
       "         -3.96278177e-02,   3.55748687e-04,   4.03393151e-02,\n",
       "          8.03228814e-02,   1.20306448e-01,   1.60290014e-01,\n",
       "          2.00273581e-01,   2.40257147e-01,   2.80240713e-01,\n",
       "          3.20224280e-01,   3.60207846e-01,   4.00191412e-01,\n",
       "          4.40174979e-01,   4.80158545e-01,   5.20142111e-01,\n",
       "          5.60125678e-01,   6.00109244e-01,   6.40092811e-01,\n",
       "          6.80076377e-01,   7.20059943e-01,   7.60043510e-01,\n",
       "          8.00027076e-01,   8.40010642e-01,   8.79994209e-01,\n",
       "          9.19977775e-01,   9.59961341e-01,   9.99944908e-01]),\n",
       " <a list of 50 Patch objects>)"
      ]
     },
     "execution_count": 14,
     "metadata": {},
     "output_type": "execute_result"
    },
    {
     "data": {
      "image/png": "[encoded data removed]",
      "text/plain": [
       "<matplotlib.figure.Figure at 0x125cc0550>"
      ]
     },
     "metadata": {},
     "output_type": "display_data"
    }
   ],
   "source": [
    "plt.hist(df[df.Photon1_pt>0][df.Photon2_pt>0].GenDiphotonStable_cosThetaStar, alpha=.3, bins=50)"
   ]
  },
  {
   "cell_type": "code",
   "execution_count": 15,
   "metadata": {},
   "outputs": [
    {
     "data": {
      "text/plain": [
       "(8571,)"
      ]
     },
     "execution_count": 15,
     "metadata": {},
     "output_type": "execute_result"
    }
   ],
   "source": [
    "events = df[df.Photon1_pt>0][df.Photon2_pt>0].GenDiphotonUnstable_cosThetaStar.shape\n",
    "df[df.Photon1_pt>0][df.Photon2_pt>0].GenDiphotonUnstable_cosThetaStar.shape\n"
   ]
  },
  {
   "cell_type": "code",
   "execution_count": 25,
   "metadata": {},
   "outputs": [
    {
     "data": {
      "text/plain": [
       "(array([ 184.,  285.,  289.,  263.,  251.,  240.,  228.,  219.,  173.,\n",
       "         189.,  203.,  170.,  176.,  145.,  171.,  131.,  107.,  132.,\n",
       "         124.,  100.,   88.,  117.,  102.,   98.,  113.,  100.,   97.,\n",
       "         103.,   97.,  114.,  119.,  113.,  141.,  125.,  133.,  150.,\n",
       "         150.,  161.,  189.,  189.,  185.,  191.,  191.,  224.,  258.,\n",
       "         256.,  252.,  267.,  268.,  200.]),\n",
       " array([ -9.99233410e-01,  -9.59249844e-01,  -9.19266278e-01,\n",
       "         -8.79282711e-01,  -8.39299145e-01,  -7.99315579e-01,\n",
       "         -7.59332012e-01,  -7.19348446e-01,  -6.79364880e-01,\n",
       "         -6.39381313e-01,  -5.99397747e-01,  -5.59414180e-01,\n",
       "         -5.19430614e-01,  -4.79447048e-01,  -4.39463481e-01,\n",
       "         -3.99479915e-01,  -3.59496349e-01,  -3.19512782e-01,\n",
       "         -2.79529216e-01,  -2.39545650e-01,  -1.99562083e-01,\n",
       "         -1.59578517e-01,  -1.19594950e-01,  -7.96113840e-02,\n",
       "         -3.96278177e-02,   3.55748687e-04,   4.03393151e-02,\n",
       "          8.03228814e-02,   1.20306448e-01,   1.60290014e-01,\n",
       "          2.00273581e-01,   2.40257147e-01,   2.80240713e-01,\n",
       "          3.20224280e-01,   3.60207846e-01,   4.00191412e-01,\n",
       "          4.40174979e-01,   4.80158545e-01,   5.20142111e-01,\n",
       "          5.60125678e-01,   6.00109244e-01,   6.40092811e-01,\n",
       "          6.80076377e-01,   7.20059943e-01,   7.60043510e-01,\n",
       "          8.00027076e-01,   8.40010642e-01,   8.79994209e-01,\n",
       "          9.19977775e-01,   9.59961341e-01,   9.99944908e-01]),\n",
       " <a list of 50 Patch objects>)"
      ]
     },
     "execution_count": 25,
     "metadata": {},
     "output_type": "execute_result"
    },
    {
     "data": {
      "image/png": "[encoded data removed]",
      "text/plain": [
       "<matplotlib.figure.Figure at 0x125f36cd0>"
      ]
     },
     "metadata": {},
     "output_type": "display_data"
    }
   ],
   "source": [
    "x = np.arange(-1.0, 1.0, 0.01)\n",
    "s = events*(1 + 6*x**2+x**4)\n",
    "#line, = plt.plot(x, s, lw=2)\n",
    "plt.plot(x, s, lw=2)\n",
    "plt.hist(df[df.Photon1_pt>0][df.Photon2_pt>0].GenDiphotonUnstable_cosThetaStar, alpha=.3, bins=50)\n",
    "#g = [random.gauss(3,1) for _ in range(400)]\n",
    "#y = [random.gauss(4,2) for _ in range(400)]\n",
    "\n",
    "#bins = np.linspace(-10, 10, 100)\n",
    "\n",
    "#plt.hist(g, bins, alpha=0.5, label='x')\n",
    "#plt.hist(y, bins, alpha=0.5, label='y')\n",
    "#plt.legend(loc='upper right')\n",
    "#plt.show()"
   ]
  },
  {
   "cell_type": "code",
   "execution_count": 26,
   "metadata": {},
   "outputs": [
    {
     "data": {
      "image/png": "[encoded data removed]",
      "text/plain": [
       "<matplotlib.figure.Figure at 0x127ba4410>"
      ]
     },
     "metadata": {},
     "output_type": "display_data"
    }
   ],
   "source": [
    "ax = plt.subplot(111)\n",
    "\n",
    "t = np.arange(0.0, 5.0, 0.01)\n",
    "s = np.cos(2*np.pi*t)\n",
    "line, = plt.plot(t, s, lw=2)\n",
    "\n",
    "plt.annotate('local max', xy=(2, 1), xytext=(3, 1.5),\n",
    "            arrowprops=dict(facecolor='black', shrink=0.05),\n",
    "            )\n",
    "\n",
    "plt.ylim(-2,2)\n",
    "plt.show()"
   ]
  },
  {
   "cell_type": "code",
   "execution_count": null,
   "metadata": {
    "collapsed": true
   },
   "outputs": [],
   "source": [
    "import numpy as np\n",
    "import matplotlib.pyplot as plt\n",
    "\n",
    "ax = plt.subplot(111)\n",
    "\n",
    "#(1+6*pow(x,2)+pow(x,4))\n",
    "x = np.arange(-1.0, 1.0, 0.01)\n",
    "s = 1 + 6*x**2+x**4\n",
    "line, = plt.plot(t, s, lw=2)\n",
    "\n",
    "plt.annotate('local max', xy=(2, 1), xytext=(3, 1.5),\n",
    "            arrowprops=dict(facecolor='black', shrink=0.05),\n",
    "            )\n",
    "\n",
    "#plt.ylim(-2,2)\n",
    "plt.show()"
   ]
  },
  {
   "cell_type": "code",
   "execution_count": null,
   "metadata": {
    "collapsed": true
   },
   "outputs": [],
   "source": []
  }
 ],
 "metadata": {
  "kernelspec": {
   "display_name": "Python 2",
   "language": "python",
   "name": "python2"
  },
  "language_info": {
   "codemirror_mode": {
    "name": "ipython",
    "version": 2
   },
   "file_extension": ".py",
   "mimetype": "text/x-python",
   "name": "python",
   "nbconvert_exporter": "python",
   "pygments_lexer": "ipython2",
   "version": "2.7.13"
  },
  "widgets": {
   "state": {},
   "version": "1.1.2"
  }
 },
 "nbformat": 4,
 "nbformat_minor": 2
}
