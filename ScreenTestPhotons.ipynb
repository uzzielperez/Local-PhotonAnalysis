{
 "cells": [
  {
   "cell_type": "code",
   "execution_count": 1,
   "metadata": {},
   "outputs": [
    {
     "data": {
      "application/javascript": [
       "\n",
       "require(['notebook'],\n",
       "  function() {\n",
       "    IPython.CodeCell.config_defaults.highlight_modes['magic_text/x-c++src'] = {'reg':[/^%%cpp/]};\n",
       "    console.log(\"JupyROOT - %%cpp magic configured\");\n",
       "  }\n",
       ");\n"
      ]
     },
     "metadata": {},
     "output_type": "display_data"
    },
    {
     "name": "stdout",
     "output_type": "stream",
     "text": [
      "Welcome to JupyROOT 6.08/06\n"
     ]
    },
    {
     "name": "stderr",
     "output_type": "stream",
     "text": [
      "/usr/local/lib/python2.7/site-packages/root_numpy/__init__.py:46: RuntimeWarning: numpy 1.12.1 is currently installed but you installed root_numpy against numpy 1.12.0. Please consider reinstalling root_numpy for this numpy version.\n",
      "  RuntimeWarning)\n"
     ]
    }
   ],
   "source": [
    "import ROOT\n",
    "from root_numpy import root2array, tree2array\n",
    "from root_numpy.testdata import get_filepath\n",
    "import pandas as pd \n",
    "import csv"
   ]
  },
  {
   "cell_type": "code",
   "execution_count": 32,
   "metadata": {
    "collapsed": true
   },
   "outputs": [],
   "source": [
    "inputr = \"~/Desktop/Research/TriphotonAnalyzertest.root\"\n",
    "newfile = ROOT.TFile(inputr)\n",
    "gree = newfile.Get(\"/demo/fTree\")\n",
    "%jsroot on"
   ]
  },
  {
   "cell_type": "code",
   "execution_count": 11,
   "metadata": {
    "collapsed": true
   },
   "outputs": [],
   "source": [
    "mychain = gDirectory.Get('/demo/fTree')\n",
    "entries = mychain.GetEntriesFast()"
   ]
  },
  {
   "cell_type": "markdown",
   "metadata": {},
   "source": [
    "# Look How Long the Leaves list is \n",
    "arraynew = tree2array(gree, branches = ['pt','eta','phi','scEta','scPhi','rho','chargedHadIso03','neutralHadIso03',\n",
    "                                        'photonIso03','rhoCorChargedHadIso03','rhoCorNeutralHadIso03','rhoCorPhotonIso03','corPhotonIso03',\n",
    "                                        'hadTowerOverEm','hadronicOverEm','r9','r9_5x5','sigmaIetaIeta','sigmaIetaIeta5x5',\n",
    "                                        'sigmaEtaEta','sigmaIphiIphi','sigmaIphiIphi5x5','sigmaIetaIphi','sigmaIetaIphi5x5',\n",
    "                                        'maxEnergyXtal','iEta','iPhi','alphaHighPtID','kappaHighPtID','phoEAHighPtID','chEAegmID',\n",
    "                                        'nhEAegmID','phoEAegmID','passEGMLooseID/O','passEGMMediumID','passEGMTightID',\n",
    "                                        'isEB','isEE','isEBEtaGap','isEBPhiGap','isEERingGap','isEEDeeGap','isEBEEGap','passElectronVeto',\n",
    "                                        'passHTowOverE','passChIso','passCorPhoIso','passSieie',\n",
    "                                        'passHighPtID','passChIsoDenom','passCorPhoIsoDenom',\n",
    "                                        'isFakeable','isNumeratorObjCand','isDenominatorObj','isSaturated','isMCTruthFake'])\n",
    "                                        \n",
    "                     "
   ]
  },
  {
   "cell_type": "markdown",
   "metadata": {
    "collapsed": true
   },
   "source": [
    "# First we'll convert the root files to csv"
   ]
  },
  {
   "cell_type": "code",
   "execution_count": 3,
   "metadata": {},
   "outputs": [
    {
     "name": "stdout",
     "output_type": "stream",
     "text": [
      "TFile**\t\t/Users/up/Desktop/Research/TriphotonAnalyzertest.root\t\n",
      " TFile*\t\t/Users/up/Desktop/Research/TriphotonAnalyzertest.root\t\n",
      "  TDirectoryFile*\t\tdemo\tdemo\n",
      "   OBJ: TTree\tfTree\tTriphotonTree : 0 at: 0x7fe56d66dc60\n",
      "   KEY: TTree\tfTree;1\tTriphotonTree\n",
      "  KEY: TDirectoryFile\tdemo;1\tdemo\n"
     ]
    }
   ],
   "source": [
    "newfile.ls()"
   ]
  },
  {
   "cell_type": "markdown",
   "metadata": {},
   "source": [
    "# ROOT to CSV to dataframe"
   ]
  },
  {
   "cell_type": "code",
   "execution_count": 4,
   "metadata": {},
   "outputs": [
    {
     "data": {
      "text/html": [
       "<div>\n",
       "<style>\n",
       "    .dataframe thead tr:only-child th {\n",
       "        text-align: right;\n",
       "    }\n",
       "\n",
       "    .dataframe thead th {\n",
       "        text-align: left;\n",
       "    }\n",
       "\n",
       "    .dataframe tbody tr th {\n",
       "        vertical-align: top;\n",
       "    }\n",
       "</style>\n",
       "<table border=\"1\" class=\"dataframe\">\n",
       "  <thead>\n",
       "    <tr style=\"text-align: right;\">\n",
       "      <th></th>\n",
       "      <th>Event_run</th>\n",
       "      <th>Event_LS</th>\n",
       "      <th>Event_evnum</th>\n",
       "      <th>Event_processid</th>\n",
       "      <th>Event_bx</th>\n",
       "      <th>Event_orbit</th>\n",
       "      <th>Event_ptHat</th>\n",
       "      <th>Event_alphaqcd</th>\n",
       "      <th>Event_alphaqed</th>\n",
       "      <th>Event_qscale</th>\n",
       "      <th>...</th>\n",
       "      <th>Photon3_passCorPhoIso</th>\n",
       "      <th>Photon3_passSieie</th>\n",
       "      <th>Photon3_passHighPtID</th>\n",
       "      <th>Photon3_passChIsoDenom</th>\n",
       "      <th>Photon3_passCorPhoIsoDenom</th>\n",
       "      <th>Photon3_isFakeable</th>\n",
       "      <th>Photon3_isNumeratorObjCand</th>\n",
       "      <th>Photon3_isDenominatorObj</th>\n",
       "      <th>Photon3_isSaturated</th>\n",
       "      <th>Photon3_isMCTruthFake</th>\n",
       "    </tr>\n",
       "  </thead>\n",
       "  <tbody>\n",
       "    <tr>\n",
       "      <th>0</th>\n",
       "      <td>276501</td>\n",
       "      <td>1745</td>\n",
       "      <td>2897006843</td>\n",
       "      <td>-99999</td>\n",
       "      <td>1227</td>\n",
       "      <td>457346568</td>\n",
       "      <td>-99999.992188</td>\n",
       "      <td>-99999.992188</td>\n",
       "      <td>-99999.992188</td>\n",
       "      <td>-99999.992188</td>\n",
       "      <td>...</td>\n",
       "      <td>False</td>\n",
       "      <td>False</td>\n",
       "      <td>False</td>\n",
       "      <td>False</td>\n",
       "      <td>False</td>\n",
       "      <td>False</td>\n",
       "      <td>False</td>\n",
       "      <td>False</td>\n",
       "      <td>False</td>\n",
       "      <td>False</td>\n",
       "    </tr>\n",
       "    <tr>\n",
       "      <th>1</th>\n",
       "      <td>276501</td>\n",
       "      <td>1745</td>\n",
       "      <td>2897462376</td>\n",
       "      <td>-99999</td>\n",
       "      <td>2846</td>\n",
       "      <td>457425152</td>\n",
       "      <td>-99999.992188</td>\n",
       "      <td>-99999.992188</td>\n",
       "      <td>-99999.992188</td>\n",
       "      <td>-99999.992188</td>\n",
       "      <td>...</td>\n",
       "      <td>False</td>\n",
       "      <td>False</td>\n",
       "      <td>False</td>\n",
       "      <td>False</td>\n",
       "      <td>False</td>\n",
       "      <td>False</td>\n",
       "      <td>False</td>\n",
       "      <td>False</td>\n",
       "      <td>False</td>\n",
       "      <td>False</td>\n",
       "    </tr>\n",
       "    <tr>\n",
       "      <th>2</th>\n",
       "      <td>276501</td>\n",
       "      <td>1745</td>\n",
       "      <td>2896488496</td>\n",
       "      <td>-99999</td>\n",
       "      <td>3056</td>\n",
       "      <td>457257955</td>\n",
       "      <td>-99999.992188</td>\n",
       "      <td>-99999.992188</td>\n",
       "      <td>-99999.992188</td>\n",
       "      <td>-99999.992188</td>\n",
       "      <td>...</td>\n",
       "      <td>False</td>\n",
       "      <td>False</td>\n",
       "      <td>False</td>\n",
       "      <td>False</td>\n",
       "      <td>False</td>\n",
       "      <td>False</td>\n",
       "      <td>False</td>\n",
       "      <td>False</td>\n",
       "      <td>False</td>\n",
       "      <td>False</td>\n",
       "    </tr>\n",
       "    <tr>\n",
       "      <th>3</th>\n",
       "      <td>276501</td>\n",
       "      <td>1745</td>\n",
       "      <td>2896871617</td>\n",
       "      <td>-99999</td>\n",
       "      <td>1551</td>\n",
       "      <td>457323447</td>\n",
       "      <td>-99999.992188</td>\n",
       "      <td>-99999.992188</td>\n",
       "      <td>-99999.992188</td>\n",
       "      <td>-99999.992188</td>\n",
       "      <td>...</td>\n",
       "      <td>False</td>\n",
       "      <td>False</td>\n",
       "      <td>False</td>\n",
       "      <td>False</td>\n",
       "      <td>False</td>\n",
       "      <td>False</td>\n",
       "      <td>False</td>\n",
       "      <td>False</td>\n",
       "      <td>False</td>\n",
       "      <td>False</td>\n",
       "    </tr>\n",
       "    <tr>\n",
       "      <th>4</th>\n",
       "      <td>276501</td>\n",
       "      <td>1745</td>\n",
       "      <td>2896110065</td>\n",
       "      <td>-99999</td>\n",
       "      <td>1358</td>\n",
       "      <td>457192742</td>\n",
       "      <td>-99999.992188</td>\n",
       "      <td>-99999.992188</td>\n",
       "      <td>-99999.992188</td>\n",
       "      <td>-99999.992188</td>\n",
       "      <td>...</td>\n",
       "      <td>False</td>\n",
       "      <td>False</td>\n",
       "      <td>False</td>\n",
       "      <td>False</td>\n",
       "      <td>False</td>\n",
       "      <td>False</td>\n",
       "      <td>False</td>\n",
       "      <td>False</td>\n",
       "      <td>False</td>\n",
       "      <td>False</td>\n",
       "    </tr>\n",
       "  </tbody>\n",
       "</table>\n",
       "<p>5 rows × 365 columns</p>\n",
       "</div>"
      ],
      "text/plain": [
       "   Event_run  Event_LS  Event_evnum  Event_processid  Event_bx  Event_orbit  \\\n",
       "0     276501      1745   2897006843           -99999      1227    457346568   \n",
       "1     276501      1745   2897462376           -99999      2846    457425152   \n",
       "2     276501      1745   2896488496           -99999      3056    457257955   \n",
       "3     276501      1745   2896871617           -99999      1551    457323447   \n",
       "4     276501      1745   2896110065           -99999      1358    457192742   \n",
       "\n",
       "    Event_ptHat  Event_alphaqcd  Event_alphaqed  Event_qscale  \\\n",
       "0 -99999.992188   -99999.992188   -99999.992188 -99999.992188   \n",
       "1 -99999.992188   -99999.992188   -99999.992188 -99999.992188   \n",
       "2 -99999.992188   -99999.992188   -99999.992188 -99999.992188   \n",
       "3 -99999.992188   -99999.992188   -99999.992188 -99999.992188   \n",
       "4 -99999.992188   -99999.992188   -99999.992188 -99999.992188   \n",
       "\n",
       "           ...            Photon3_passCorPhoIso  Photon3_passSieie  \\\n",
       "0          ...                            False              False   \n",
       "1          ...                            False              False   \n",
       "2          ...                            False              False   \n",
       "3          ...                            False              False   \n",
       "4          ...                            False              False   \n",
       "\n",
       "   Photon3_passHighPtID  Photon3_passChIsoDenom  Photon3_passCorPhoIsoDenom  \\\n",
       "0                 False                   False                       False   \n",
       "1                 False                   False                       False   \n",
       "2                 False                   False                       False   \n",
       "3                 False                   False                       False   \n",
       "4                 False                   False                       False   \n",
       "\n",
       "   Photon3_isFakeable  Photon3_isNumeratorObjCand  Photon3_isDenominatorObj  \\\n",
       "0               False                       False                     False   \n",
       "1               False                       False                     False   \n",
       "2               False                       False                     False   \n",
       "3               False                       False                     False   \n",
       "4               False                       False                     False   \n",
       "\n",
       "   Photon3_isSaturated  Photon3_isMCTruthFake  \n",
       "0                False                  False  \n",
       "1                False                  False  \n",
       "2                False                  False  \n",
       "3                False                  False  \n",
       "4                False                  False  \n",
       "\n",
       "[5 rows x 365 columns]"
      ]
     },
     "execution_count": 4,
     "metadata": {},
     "output_type": "execute_result"
    }
   ],
   "source": [
    "a=tree2array(gree)\n",
    "al=a.tolist()\n",
    "df = pd.DataFrame(a)\n",
    "df.head()"
   ]
  },
  {
   "cell_type": "code",
   "execution_count": 5,
   "metadata": {},
   "outputs": [
    {
     "name": "stdout",
     "output_type": "stream",
     "text": [
      "<class 'pandas.core.frame.DataFrame'>\n",
      "RangeIndex: 20354 entries, 0 to 20353\n",
      "Columns: 365 entries, Event_run to Photon3_isMCTruthFake\n",
      "dtypes: bool(141), float32(15), float64(198), int32(5), int64(6)\n",
      "memory usage: 36.0 MB\n"
     ]
    }
   ],
   "source": [
    "df.info()"
   ]
  },
  {
   "cell_type": "code",
   "execution_count": 23,
   "metadata": {},
   "outputs": [
    {
     "data": {
      "text/plain": [
       "array([    0,     1,     2, ..., 20351, 20352, 20353])"
      ]
     },
     "execution_count": 23,
     "metadata": {},
     "output_type": "execute_result"
    }
   ],
   "source": [
    "df.index.values"
   ]
  },
  {
   "cell_type": "markdown",
   "metadata": {},
   "source": [
    "# Plotting "
   ]
  },
  {
   "cell_type": "code",
   "execution_count": 6,
   "metadata": {
    "collapsed": true
   },
   "outputs": [],
   "source": [
    "import matplotlib.pyplot as plt\n",
    "%matplotlib inline"
   ]
  },
  {
   "cell_type": "code",
   "execution_count": 27,
   "metadata": {},
   "outputs": [
    {
     "data": {
      "image/png": "[encoded data removed]",
      "text/plain": [
       "<matplotlib.figure.Figure at 0x110cbf210>"
      ]
     },
     "metadata": {},
     "output_type": "display_data"
    },
    {
     "name": "stderr",
     "output_type": "stream",
     "text": [
      "/usr/local/lib/python2.7/site-packages/matplotlib/axes/_axes.py:545: UserWarning: No labelled objects found. Use label='...' kwarg on individual plots.\n",
      "  warnings.warn(\"No labelled objects found. \"\n"
     ]
    }
   ],
   "source": [
    "plt.hist(df.Photon1_eta, alpha=.3, bins=50)\n",
    "plt.legend()\n",
    "plt.show()"
   ]
  },
  {
   "cell_type": "markdown",
   "metadata": {},
   "source": [
    "If I want several of them: "
   ]
  },
  {
   "cell_type": "code",
   "execution_count": 28,
   "metadata": {},
   "outputs": [],
   "source": [
    "import seaborn as sns #cosmetics \n",
    "sns.set(style=\"darkgrid\")\n",
    "import numpy as np\n",
    "%matplotlib inline"
   ]
  },
  {
   "cell_type": "code",
   "execution_count": 29,
   "metadata": {},
   "outputs": [
    {
     "data": {
      "image/png": "[encoded data removed]",
      "text/plain": [
       "<matplotlib.figure.Figure at 0x12dcc3890>"
      ]
     },
     "metadata": {},
     "output_type": "display_data"
    }
   ],
   "source": [
    "df['Photon1_pt'].hist(bins=50)\n",
    "df['Photon2_pt'].hist(bins=50)\n",
    "df['Photon3_pt'].hist(bins=50)\n",
    "plt.show()\n"
   ]
  },
  {
   "cell_type": "code",
   "execution_count": 30,
   "metadata": {},
   "outputs": [
    {
     "data": {
      "image/png": "[encoded data removed]",
      "text/plain": [
       "<matplotlib.figure.Figure at 0x12e130bd0>"
      ]
     },
     "metadata": {},
     "output_type": "display_data"
    },
    {
     "data": {
      "image/png": "[encoded data removed]",
      "text/plain": [
       "<matplotlib.figure.Figure at 0x12e2e80d0>"
      ]
     },
     "metadata": {},
     "output_type": "display_data"
    },
    {
     "data": {
      "image/png": "[encoded data removed]",
      "text/plain": [
       "<matplotlib.figure.Figure at 0x1303d1750>"
      ]
     },
     "metadata": {},
     "output_type": "display_data"
    }
   ],
   "source": [
    "plt.hist(df.Photon1_eta, bins=50, alpha=1, label='Photon1_eta');\n",
    "plt.ylabel('Photon1_eta')\n",
    "plt.legend()\n",
    "plt.show()\n",
    "\n",
    "plt.hist(df.Photon2_eta, bins=50, alpha=1, label='Photon2_eta',color ='red');\n",
    "plt.ylabel('Photon2_eta')\n",
    "plt.legend()\n",
    "plt.show()\n",
    "\n",
    "plt.hist(df.Photon3_eta, bins=50, alpha=1, label='Photon3_eta', color = 'green');\n",
    "plt.ylabel('Photon3_eta')\n",
    "plt.legend()\n",
    "plt.show()\n"
   ]
  },
  {
   "cell_type": "markdown",
   "metadata": {},
   "source": [
    "### Comparing with All Triphotons"
   ]
  },
  {
   "cell_type": "code",
   "execution_count": 33,
   "metadata": {
    "collapsed": true
   },
   "outputs": [],
   "source": [
    "input2 = \"~/Desktop/Research/TriphotonOut2017.root\"\n",
    "file2 = ROOT.TFile(input2)\n",
    "tree2 = file2.Get(\"demo/fTree\")"
   ]
  },
  {
   "cell_type": "code",
   "execution_count": 34,
   "metadata": {},
   "outputs": [
    {
     "data": {
      "text/html": [
       "<div>\n",
       "<style>\n",
       "    .dataframe thead tr:only-child th {\n",
       "        text-align: right;\n",
       "    }\n",
       "\n",
       "    .dataframe thead th {\n",
       "        text-align: left;\n",
       "    }\n",
       "\n",
       "    .dataframe tbody tr th {\n",
       "        vertical-align: top;\n",
       "    }\n",
       "</style>\n",
       "<table border=\"1\" class=\"dataframe\">\n",
       "  <thead>\n",
       "    <tr style=\"text-align: right;\">\n",
       "      <th></th>\n",
       "      <th>Event_run</th>\n",
       "      <th>Event_LS</th>\n",
       "      <th>Event_evnum</th>\n",
       "      <th>Event_processid</th>\n",
       "      <th>Event_bx</th>\n",
       "      <th>Event_orbit</th>\n",
       "      <th>Event_ptHat</th>\n",
       "      <th>Event_alphaqcd</th>\n",
       "      <th>Event_alphaqed</th>\n",
       "      <th>Event_qscale</th>\n",
       "      <th>...</th>\n",
       "      <th>GenPhoton3_ptDiff_match</th>\n",
       "      <th>GenPhoton3_matchCategory</th>\n",
       "      <th>GenPhoton3_matchType</th>\n",
       "      <th>GenPhoton3_nPhotonMotherDaughters</th>\n",
       "      <th>GenPhoton3_status</th>\n",
       "      <th>GenPhoton3_motherStatus</th>\n",
       "      <th>GenPhoton3_grandmotherStatus</th>\n",
       "      <th>GenPhoton3_pdgId</th>\n",
       "      <th>GenPhoton3_motherPdgId</th>\n",
       "      <th>GenPhoton3_grandmotherPdgId</th>\n",
       "    </tr>\n",
       "  </thead>\n",
       "  <tbody>\n",
       "    <tr>\n",
       "      <th>0</th>\n",
       "      <td>276501</td>\n",
       "      <td>1745</td>\n",
       "      <td>2897006843</td>\n",
       "      <td>-99999</td>\n",
       "      <td>1227</td>\n",
       "      <td>457346568</td>\n",
       "      <td>-99999.992188</td>\n",
       "      <td>-99999.992188</td>\n",
       "      <td>-99999.992188</td>\n",
       "      <td>-99999.992188</td>\n",
       "      <td>...</td>\n",
       "      <td>-9999.99</td>\n",
       "      <td>-1202590843</td>\n",
       "      <td>-1060927490</td>\n",
       "      <td>-1202590843</td>\n",
       "      <td>-1060927490</td>\n",
       "      <td>-1202590843</td>\n",
       "      <td>-1060927490</td>\n",
       "      <td>-1202590843</td>\n",
       "      <td>-1060927490</td>\n",
       "      <td>-1202590843</td>\n",
       "    </tr>\n",
       "    <tr>\n",
       "      <th>1</th>\n",
       "      <td>276501</td>\n",
       "      <td>1745</td>\n",
       "      <td>2897462376</td>\n",
       "      <td>-99999</td>\n",
       "      <td>2846</td>\n",
       "      <td>457425152</td>\n",
       "      <td>-99999.992188</td>\n",
       "      <td>-99999.992188</td>\n",
       "      <td>-99999.992188</td>\n",
       "      <td>-99999.992188</td>\n",
       "      <td>...</td>\n",
       "      <td>-9999.99</td>\n",
       "      <td>-1202590843</td>\n",
       "      <td>-1060927490</td>\n",
       "      <td>-1202590843</td>\n",
       "      <td>-1060927490</td>\n",
       "      <td>-1202590843</td>\n",
       "      <td>-1060927490</td>\n",
       "      <td>-1202590843</td>\n",
       "      <td>-1060927490</td>\n",
       "      <td>-1202590843</td>\n",
       "    </tr>\n",
       "    <tr>\n",
       "      <th>2</th>\n",
       "      <td>276501</td>\n",
       "      <td>1745</td>\n",
       "      <td>2896488496</td>\n",
       "      <td>-99999</td>\n",
       "      <td>3056</td>\n",
       "      <td>457257955</td>\n",
       "      <td>-99999.992188</td>\n",
       "      <td>-99999.992188</td>\n",
       "      <td>-99999.992188</td>\n",
       "      <td>-99999.992188</td>\n",
       "      <td>...</td>\n",
       "      <td>-9999.99</td>\n",
       "      <td>-1202590843</td>\n",
       "      <td>-1060927490</td>\n",
       "      <td>-1202590843</td>\n",
       "      <td>-1060927490</td>\n",
       "      <td>-1202590843</td>\n",
       "      <td>-1060927490</td>\n",
       "      <td>-1202590843</td>\n",
       "      <td>-1060927490</td>\n",
       "      <td>-1202590843</td>\n",
       "    </tr>\n",
       "    <tr>\n",
       "      <th>3</th>\n",
       "      <td>276501</td>\n",
       "      <td>1745</td>\n",
       "      <td>2896871617</td>\n",
       "      <td>-99999</td>\n",
       "      <td>1551</td>\n",
       "      <td>457323447</td>\n",
       "      <td>-99999.992188</td>\n",
       "      <td>-99999.992188</td>\n",
       "      <td>-99999.992188</td>\n",
       "      <td>-99999.992188</td>\n",
       "      <td>...</td>\n",
       "      <td>-9999.99</td>\n",
       "      <td>-1202590843</td>\n",
       "      <td>-1060927490</td>\n",
       "      <td>-1202590843</td>\n",
       "      <td>-1060927490</td>\n",
       "      <td>-1202590843</td>\n",
       "      <td>-1060927490</td>\n",
       "      <td>-1202590843</td>\n",
       "      <td>-1060927490</td>\n",
       "      <td>-1202590843</td>\n",
       "    </tr>\n",
       "    <tr>\n",
       "      <th>4</th>\n",
       "      <td>276501</td>\n",
       "      <td>1745</td>\n",
       "      <td>2896110065</td>\n",
       "      <td>-99999</td>\n",
       "      <td>1358</td>\n",
       "      <td>457192742</td>\n",
       "      <td>-99999.992188</td>\n",
       "      <td>-99999.992188</td>\n",
       "      <td>-99999.992188</td>\n",
       "      <td>-99999.992188</td>\n",
       "      <td>...</td>\n",
       "      <td>-9999.99</td>\n",
       "      <td>-1202590843</td>\n",
       "      <td>-1060927490</td>\n",
       "      <td>-1202590843</td>\n",
       "      <td>-1060927490</td>\n",
       "      <td>-1202590843</td>\n",
       "      <td>-1060927490</td>\n",
       "      <td>-1202590843</td>\n",
       "      <td>-1060927490</td>\n",
       "      <td>-1202590843</td>\n",
       "    </tr>\n",
       "  </tbody>\n",
       "</table>\n",
       "<p>5 rows × 242 columns</p>\n",
       "</div>"
      ],
      "text/plain": [
       "   Event_run  Event_LS  Event_evnum  Event_processid  Event_bx  Event_orbit  \\\n",
       "0     276501      1745   2897006843           -99999      1227    457346568   \n",
       "1     276501      1745   2897462376           -99999      2846    457425152   \n",
       "2     276501      1745   2896488496           -99999      3056    457257955   \n",
       "3     276501      1745   2896871617           -99999      1551    457323447   \n",
       "4     276501      1745   2896110065           -99999      1358    457192742   \n",
       "\n",
       "    Event_ptHat  Event_alphaqcd  Event_alphaqed  Event_qscale  \\\n",
       "0 -99999.992188   -99999.992188   -99999.992188 -99999.992188   \n",
       "1 -99999.992188   -99999.992188   -99999.992188 -99999.992188   \n",
       "2 -99999.992188   -99999.992188   -99999.992188 -99999.992188   \n",
       "3 -99999.992188   -99999.992188   -99999.992188 -99999.992188   \n",
       "4 -99999.992188   -99999.992188   -99999.992188 -99999.992188   \n",
       "\n",
       "              ...               GenPhoton3_ptDiff_match  \\\n",
       "0             ...                              -9999.99   \n",
       "1             ...                              -9999.99   \n",
       "2             ...                              -9999.99   \n",
       "3             ...                              -9999.99   \n",
       "4             ...                              -9999.99   \n",
       "\n",
       "   GenPhoton3_matchCategory  GenPhoton3_matchType  \\\n",
       "0               -1202590843           -1060927490   \n",
       "1               -1202590843           -1060927490   \n",
       "2               -1202590843           -1060927490   \n",
       "3               -1202590843           -1060927490   \n",
       "4               -1202590843           -1060927490   \n",
       "\n",
       "   GenPhoton3_nPhotonMotherDaughters  GenPhoton3_status  \\\n",
       "0                        -1202590843        -1060927490   \n",
       "1                        -1202590843        -1060927490   \n",
       "2                        -1202590843        -1060927490   \n",
       "3                        -1202590843        -1060927490   \n",
       "4                        -1202590843        -1060927490   \n",
       "\n",
       "   GenPhoton3_motherStatus  GenPhoton3_grandmotherStatus  GenPhoton3_pdgId  \\\n",
       "0              -1202590843                   -1060927490       -1202590843   \n",
       "1              -1202590843                   -1060927490       -1202590843   \n",
       "2              -1202590843                   -1060927490       -1202590843   \n",
       "3              -1202590843                   -1060927490       -1202590843   \n",
       "4              -1202590843                   -1060927490       -1202590843   \n",
       "\n",
       "   GenPhoton3_motherPdgId  GenPhoton3_grandmotherPdgId  \n",
       "0             -1060927490                  -1202590843  \n",
       "1             -1060927490                  -1202590843  \n",
       "2             -1060927490                  -1202590843  \n",
       "3             -1060927490                  -1202590843  \n",
       "4             -1060927490                  -1202590843  \n",
       "\n",
       "[5 rows x 242 columns]"
      ]
     },
     "execution_count": 34,
     "metadata": {},
     "output_type": "execute_result"
    }
   ],
   "source": [
    "b=tree2array(tree2)\n",
    "bl=b.tolist()\n",
    "df2 = pd.DataFrame(b)\n",
    "df2.head()"
   ]
  },
  {
   "cell_type": "code",
   "execution_count": 35,
   "metadata": {},
   "outputs": [
    {
     "data": {
      "text/plain": [
       "array([    0,     1,     2, ..., 24594, 24595, 24596])"
      ]
     },
     "execution_count": 35,
     "metadata": {},
     "output_type": "execute_result"
    }
   ],
   "source": [
    "df2.index.values"
   ]
  },
  {
   "cell_type": "code",
   "execution_count": 42,
   "metadata": {},
   "outputs": [
    {
     "data": {
      "image/png": "[encoded data removed]",
      "text/plain": [
       "<matplotlib.figure.Figure at 0x12de533d0>"
      ]
     },
     "metadata": {},
     "output_type": "display_data"
    }
   ],
   "source": [
    "sns.set(style=\"darkgrid\")\n",
    "plt.hist(df.Photon1_pt, alpha=.3, bins=50, label = \"H/E cut\", color =\"red\")\n",
    "plt.hist(df2.Photon1_pt, alpha=.3, bins=50, label =\"no cut\", color = \"blue\")\n",
    "plt.legend()\n",
    "plt.show()"
   ]
  },
  {
   "cell_type": "code",
   "execution_count": 90,
   "metadata": {},
   "outputs": [
    {
     "data": {
      "image/png": "[encoded data removed]",
      "text/plain": [
       "<matplotlib.figure.Figure at 0x135e3a790>"
      ]
     },
     "metadata": {},
     "output_type": "display_data"
    }
   ],
   "source": [
    "sns.set(rc={\"figure.figsize\": (20, 10)})\n",
    "#221, 222, 223, 224 2x2 grid\n",
    "#321, 322, 323, 324, 325, 326, 3x2 grid\n",
    "#5x2 grid\n",
    "ax1 = plt.subplot(251)\n",
    "ax1.set_title('pt')\n",
    "ax1.set_ylabel('H/E Photon1/pt')\n",
    "#ax1.set_xlabel('')\n",
    "\n",
    "ax2 = plt.subplot(252)\n",
    "ax2.set_title('ptALL')\n",
    "ax2.set_ylabel('Photon1_pt')\n",
    "#ax2.set_xlabel('weight')\n",
    "\n",
    "ax3 = plt.subplot(253)\n",
    "ax3.set_title('eta')\n",
    "ax3.set_ylabel('H/E Photon1_eta')\n",
    "#ax1.set_xlabel('')\n",
    "\n",
    "ax4 = plt.subplot(254)\n",
    "ax4.set_title('etaALL')\n",
    "ax4.set_ylabel('Photon1_eta')\n",
    "#ax2.set_xlabel('weight')\n",
    "\n",
    "ax5 = plt.subplot(255)\n",
    "ax5.set_title('phi')\n",
    "ax5.set_ylabel('H/E Photon1_phi')\n",
    "#ax1.set_xlabel('')\n",
    "\n",
    "ax6 = plt.subplot(256)\n",
    "ax6.set_title('phiALL')\n",
    "ax6.set_ylabel('Photon1_phi')\n",
    "#ax2.set_xlabel('weight')\n",
    "\n",
    "ax7 = plt.subplot(257)\n",
    "ax7.set_title('scEta')\n",
    "ax7.set_ylabel('H/E Photon1_scEta')\n",
    "#ax1.set_xlabel('')\n",
    "\n",
    "ax8 = plt.subplot(258)\n",
    "ax8.set_title('scEtaALL')\n",
    "ax8.set_ylabel('Photon1_eta')\n",
    "#ax2.set_xlabel('weight')\n",
    "\n",
    "ax9 = plt.subplot(259)\n",
    "ax9.set_title('scPhi')\n",
    "ax9.set_ylabel('H/E Photon1_scPhi')\n",
    "#ax1.set_xlabel('')\n",
    "\n",
    "ax10 = plt.subplot(2,5,10)\n",
    "ax10.set_title('scPhiALL')\n",
    "ax10.set_ylabel('Photon1_scPhi')\n",
    "#ax2.set_xlabel('weight')\n",
    "\n",
    "ax1.hist(df['Photon1_pt'], bins =50, alpha = 1, color = \"red\")\n",
    "ax2.hist(df2['Photon1_pt'], bins=50)\n",
    "\n",
    "ax3.hist(df['Photon1_eta'], bins =50, color = 'red')\n",
    "ax4.hist(df2['Photon1_eta'], bins=50)\n",
    "\n",
    "ax5.hist(df['Photon1_phi'], bins =50, color = 'red')\n",
    "ax6.hist(df2['Photon1_phi'], bins=50)\n",
    "\n",
    "ax7.hist(df['Photon1_scEta'], bins =50, color = 'red')\n",
    "ax8.hist(df2['Photon1_scEta'], bins=50)\n",
    "\n",
    "ax9.hist(df['Photon1_scPhi'], bins =50, color = 'red')\n",
    "ax10.hist(df2['Photon1_scPhi'], bins=50)\n",
    "\n",
    "\n",
    "plt.tight_layout()\n",
    "plt.show()\n",
    "\n"
   ]
  },
  {
   "cell_type": "markdown",
   "metadata": {},
   "source": [
    "# Using ROOT"
   ]
  },
  {
   "cell_type": "code",
   "execution_count": 19,
   "metadata": {},
   "outputs": [],
   "source": [
    "#gree.GetListOfBranches().Print()"
   ]
  },
  {
   "cell_type": "code",
   "execution_count": 9,
   "metadata": {
    "collapsed": true
   },
   "outputs": [],
   "source": [
    "from ROOT import TCanvas, TPad, TFile, TPaveText, TColor, TGaxis, TH1F, TPad, TH1D\n",
    "from ROOT import kBlack, kBlue, kRed\n",
    "from ROOT import gBenchmark, gStyle, gROOT, gDirectory"
   ]
  },
  {
   "cell_type": "code",
   "execution_count": 26,
   "metadata": {},
   "outputs": [
    {
     "ename": "TypeError",
     "evalue": "none of the 3 overloaded methods succeeded. Full details:\n  int TH1::Fill(double x) =>\n    could not convert argument 1 (cannot convert the series to <type 'float'>)\n  int TH1::Fill(const char* name, double w) =>\n    takes at least 2 arguments (1 given)\n  int TH1::Fill(double x, double w) =>\n    takes at least 2 arguments (1 given)",
     "output_type": "error",
     "traceback": [
      "\u001b[0;31m\u001b[0m",
      "\u001b[0;31mTypeError\u001b[0mTraceback (most recent call last)",
      "\u001b[0;32m<ipython-input-26-c3d2d25f1a04>\u001b[0m in \u001b[0;36m<module>\u001b[0;34m()\u001b[0m\n\u001b[1;32m     22\u001b[0m \u001b[0;34m\u001b[0m\u001b[0m\n\u001b[1;32m     23\u001b[0m     \u001b[0;31m#Fill the hist you set up\u001b[0m\u001b[0;34m\u001b[0m\u001b[0;34m\u001b[0m\u001b[0m\n\u001b[0;32m---> 24\u001b[0;31m     \u001b[0mhpt\u001b[0m\u001b[0;34m.\u001b[0m\u001b[0mFill\u001b[0m\u001b[0;34m(\u001b[0m\u001b[0mmetpt\u001b[0m\u001b[0;34m)\u001b[0m\u001b[0;34m\u001b[0m\u001b[0m\n\u001b[0m\u001b[1;32m     25\u001b[0m     \u001b[0mheta\u001b[0m\u001b[0;34m.\u001b[0m\u001b[0mFill\u001b[0m\u001b[0;34m(\u001b[0m\u001b[0mmeteta\u001b[0m\u001b[0;34m)\u001b[0m\u001b[0;34m\u001b[0m\u001b[0m\n\u001b[1;32m     26\u001b[0m     \u001b[0mhphi\u001b[0m\u001b[0;34m.\u001b[0m\u001b[0mFill\u001b[0m\u001b[0;34m(\u001b[0m\u001b[0mmetphi\u001b[0m\u001b[0;34m)\u001b[0m\u001b[0;34m\u001b[0m\u001b[0m\n",
      "\u001b[0;31mTypeError\u001b[0m: none of the 3 overloaded methods succeeded. Full details:\n  int TH1::Fill(double x) =>\n    could not convert argument 1 (cannot convert the series to <type 'float'>)\n  int TH1::Fill(const char* name, double w) =>\n    takes at least 2 arguments (1 given)\n  int TH1::Fill(double x, double w) =>\n    takes at least 2 arguments (1 given)"
     ]
    },
    {
     "name": "stdout",
     "output_type": "stream",
     "text": [
      "<ROOT.TBranch object (\"Photon1\") at 0x7fe56d684f80>\n"
     ]
    },
    {
     "name": "stderr",
     "output_type": "stream",
     "text": [
      "Warning in <TFile::Append>: Replacing existing TH1: eta (Potential memory leak).\n",
      "Warning in <TFile::Append>: Replacing existing TH1: pt (Potential memory leak).\n",
      "Warning in <TFile::Append>: Replacing existing TH1: phi (Potential memory leak).\n"
     ]
    }
   ],
   "source": [
    "ow = gree.GetBranch(\"Photon1\")\n",
    "print ow \n",
    "\n",
    "heta = TH1D(\"eta\", \"Histogram of eta\", 100, -6, 6)\n",
    "hpt = TH1D(\"pt\", \"Histogram of pt\", 100, 0, 2000)\n",
    "hphi = TH1D(\"phi\", \"histogram of phi\", 100, -4, 4)\n",
    "\n",
    "for jentry in xrange(entries):\n",
    "    #Get next tree in the chain and verify\n",
    "    ientry = mychain.LoadTree(jentry)\n",
    "    #print ientry\n",
    "    if ientry < 0:\n",
    "        break\n",
    "    # Copy next entry into memory and verify.\n",
    "    nb = mychain.GetEntry(jentry)\n",
    "    if nb <= 0: \n",
    "        continue\n",
    "   \n",
    "    meteta = df[\"Photon1_eta\"]\n",
    "    metpt = df[\"Photon1_pt\"]\n",
    "    metphi = df[\"Photon1_phi\"]\n",
    "    \n",
    "    #Fill the hist you set up\n",
    "    hpt.Fill(metpt)\n",
    "    heta.Fill(meteta)\n",
    "    hphi.Fill(metphi)\n",
    "    "
   ]
  },
  {
   "cell_type": "code",
   "execution_count": 25,
   "metadata": {},
   "outputs": [
    {
     "ename": "NameError",
     "evalue": "name 'hmetpx' is not defined",
     "output_type": "error",
     "traceback": [
      "\u001b[0;31m\u001b[0m",
      "\u001b[0;31mNameError\u001b[0mTraceback (most recent call last)",
      "\u001b[0;32m<ipython-input-25-e5e89a1e7d2e>\u001b[0m in \u001b[0;36m<module>\u001b[0;34m()\u001b[0m\n\u001b[1;32m      1\u001b[0m \u001b[0mc\u001b[0m \u001b[0;34m=\u001b[0m \u001b[0mROOT\u001b[0m\u001b[0;34m.\u001b[0m\u001b[0mTCanvas\u001b[0m\u001b[0;34m(\u001b[0m\u001b[0;34m)\u001b[0m\u001b[0;34m\u001b[0m\u001b[0m\n\u001b[1;32m      2\u001b[0m \u001b[0;34m\u001b[0m\u001b[0m\n\u001b[0;32m----> 3\u001b[0;31m \u001b[0mhmetpx\u001b[0m\u001b[0;34m.\u001b[0m\u001b[0mDraw\u001b[0m\u001b[0;34m(\u001b[0m\u001b[0;34m\"same\"\u001b[0m\u001b[0;34m)\u001b[0m\u001b[0;34m\u001b[0m\u001b[0m\n\u001b[0m\u001b[1;32m      4\u001b[0m \u001b[0mheta\u001b[0m\u001b[0;34m.\u001b[0m\u001b[0mDraw\u001b[0m\u001b[0;34m(\u001b[0m\u001b[0;34m\"same\"\u001b[0m\u001b[0;34m)\u001b[0m\u001b[0;34m\u001b[0m\u001b[0m\n\u001b[1;32m      5\u001b[0m \u001b[0mhpt\u001b[0m\u001b[0;34m.\u001b[0m\u001b[0mDraw\u001b[0m\u001b[0;34m(\u001b[0m\u001b[0;34m\"same\"\u001b[0m\u001b[0;34m)\u001b[0m\u001b[0;34m\u001b[0m\u001b[0m\n",
      "\u001b[0;31mNameError\u001b[0m: name 'hmetpx' is not defined"
     ]
    }
   ],
   "source": [
    "c = ROOT.TCanvas()\n",
    "\n",
    "hmetpx.Draw(\"same\")\n",
    "heta.Draw(\"same\")\n",
    "hpt.Draw(\"same\")\n",
    "hphi.Draw(\"same\")\n",
    "\n",
    "c.Draw()"
   ]
  },
  {
   "cell_type": "code",
   "execution_count": 43,
   "metadata": {
    "collapsed": true
   },
   "outputs": [],
   "source": [
    "leaves = gree.GetListOfLeaves()"
   ]
  },
  {
   "cell_type": "code",
   "execution_count": 44,
   "metadata": {
    "collapsed": true
   },
   "outputs": [],
   "source": [
    "# define dynamically a python class containing root Leaves objects\n",
    "class PyListOfLeaves(dict) :\n",
    "    pass\n"
   ]
  },
  {
   "cell_type": "code",
   "execution_count": 45,
   "metadata": {
    "collapsed": true
   },
   "outputs": [],
   "source": [
    "# create an istance\n",
    "pyl = PyListOfLeaves()"
   ]
  },
  {
   "cell_type": "code",
   "execution_count": 46,
   "metadata": {
    "collapsed": true
   },
   "outputs": [],
   "source": [
    "# add leaves as attributes\n",
    "for i in range(0,leaves.GetEntries() ) :\n",
    "    leaf = leaves.At(i)\n",
    "    name = leaf.GetName()\n",
    "    # add dynamically attribute to my class \n",
    "    pyl.__setattr__(name,leaf)\n",
    "  "
   ]
  },
  {
   "cell_type": "code",
   "execution_count": null,
   "metadata": {},
   "outputs": [],
   "source": []
  },
  {
   "cell_type": "code",
   "execution_count": null,
   "metadata": {
    "collapsed": true
   },
   "outputs": [],
   "source": []
  }
 ],
 "metadata": {
  "kernelspec": {
   "display_name": "Python 2",
   "language": "python",
   "name": "python2"
  },
  "language_info": {
   "codemirror_mode": {
    "name": "ipython",
    "version": 2
   },
   "file_extension": ".py",
   "mimetype": "text/x-python",
   "name": "python",
   "nbconvert_exporter": "python",
   "pygments_lexer": "ipython2",
   "version": "2.7.13"
  }
 },
 "nbformat": 4,
 "nbformat_minor": 2
}
